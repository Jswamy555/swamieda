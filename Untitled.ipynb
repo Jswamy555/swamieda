{
 "cells": [
  {
   "cell_type": "code",
   "execution_count": 2,
   "id": "e7db9c6f",
   "metadata": {},
   "outputs": [
    {
     "data": {
      "text/plain": [
       "'aghqwshg'"
      ]
     },
     "execution_count": 2,
     "metadata": {},
     "output_type": "execute_result"
    }
   ],
   "source": [
    "a='aghqwshg'\n",
    "a\n"
   ]
  },
  {
   "cell_type": "code",
   "execution_count": 3,
   "id": "41a56ea5",
   "metadata": {},
   "outputs": [],
   "source": [
    "s=12"
   ]
  },
  {
   "cell_type": "code",
   "execution_count": null,
   "id": "21f0f7a2",
   "metadata": {},
   "outputs": [],
   "source": []
  }
 ],
 "metadata": {
  "kernelspec": {
   "display_name": "Python 3 (ipykernel)",
   "language": "python",
   "name": "python3"
  },
  "language_info": {
   "codemirror_mode": {
    "name": "ipython",
    "version": 3
   },
   "file_extension": ".py",
   "mimetype": "text/x-python",
   "name": "python",
   "nbconvert_exporter": "python",
   "pygments_lexer": "ipython3",
   "version": "3.11.5"
  }
 },
 "nbformat": 4,
 "nbformat_minor": 5
}
